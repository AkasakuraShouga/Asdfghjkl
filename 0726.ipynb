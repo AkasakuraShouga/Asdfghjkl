{
  "cells": [
    {
      "cell_type": "markdown",
      "metadata": {
        "id": "view-in-github",
        "colab_type": "text"
      },
      "source": [
        "<a href=\"https://colab.research.google.com/github/AkasakuraShouga/Asdfghjkl/blob/main/0726.ipynb\" target=\"_parent\"><img src=\"https://colab.research.google.com/assets/colab-badge.svg\" alt=\"Open In Colab\"/></a>"
      ]
    },
    {
      "cell_type": "code",
      "execution_count": null,
      "id": "000b789a",
      "metadata": {
        "id": "000b789a",
        "outputId": "d7dc24ba-abca-42fd-bd2e-fdb6670e49ee"
      },
      "outputs": [
        {
          "name": "stdout",
          "output_type": "stream",
          "text": [
            "hi\n"
          ]
        }
      ],
      "source": [
        "print('hi')"
      ]
    },
    {
      "cell_type": "code",
      "execution_count": null,
      "id": "fc71177e",
      "metadata": {
        "id": "fc71177e",
        "outputId": "4077cb1b-3703-4c92-f9b3-ad2e1ba4145f"
      },
      "outputs": [
        {
          "name": "stdout",
          "output_type": "stream",
          "text": [
            "Package                            Version\n",
            "---------------------------------- --------------------\n",
            "alabaster                          0.7.12\n",
            "anaconda-client                    1.9.0\n",
            "anaconda-navigator                 2.1.1\n",
            "anaconda-project                   0.10.1\n",
            "anyio                              2.2.0\n",
            "appdirs                            1.4.4\n",
            "argh                               0.26.2\n",
            "argon2-cffi                        20.1.0\n",
            "arrow                              0.13.1\n",
            "asn1crypto                         1.4.0\n",
            "astroid                            2.6.6\n",
            "astropy                            4.3.1\n",
            "async-generator                    1.10\n",
            "atomicwrites                       1.4.0\n",
            "attrs                              21.2.0\n",
            "autopep8                           1.5.7\n",
            "Babel                              2.9.1\n",
            "backcall                           0.2.0\n",
            "backports.functools-lru-cache      1.6.4\n",
            "backports.shutil-get-terminal-size 1.0.0\n",
            "backports.tempfile                 1.0\n",
            "backports.weakref                  1.0.post1\n",
            "bcrypt                             3.2.0\n",
            "beautifulsoup4                     4.10.0\n",
            "binaryornot                        0.4.4\n",
            "bitarray                           2.3.0\n",
            "bkcharts                           0.2\n",
            "black                              19.10b0\n",
            "bleach                             4.0.0\n",
            "bokeh                              2.4.1\n",
            "boto                               2.49.0\n",
            "Bottleneck                         1.3.2\n",
            "brotlipy                           0.7.0\n",
            "cached-property                    1.5.2\n",
            "certifi                            2021.10.8\n",
            "cffi                               1.14.6\n",
            "chardet                            4.0.0\n",
            "charset-normalizer                 2.0.4\n",
            "click                              8.0.3\n",
            "cloudpickle                        2.0.0\n",
            "clyent                             1.2.2\n",
            "colorama                           0.4.4\n",
            "comtypes                           1.1.10\n",
            "conda                              4.10.3\n",
            "conda-build                        3.21.6\n",
            "conda-content-trust                0+unknown\n",
            "conda-pack                         0.6.0\n",
            "conda-package-handling             1.7.3\n",
            "conda-repo-cli                     1.0.4\n",
            "conda-token                        0.3.0\n",
            "conda-verify                       3.4.2\n",
            "contextlib2                        0.6.0.post1\n",
            "cookiecutter                       1.7.2\n",
            "cryptography                       3.4.8\n",
            "cycler                             0.10.0\n",
            "Cython                             0.29.24\n",
            "cytoolz                            0.11.0\n",
            "daal4py                            2021.3.0\n",
            "dask                               2021.10.0\n",
            "debugpy                            1.4.1\n",
            "decorator                          5.1.0\n",
            "defusedxml                         0.7.1\n",
            "diff-match-patch                   20200713\n",
            "distributed                        2021.10.0\n",
            "docutils                           0.17.1\n",
            "entrypoints                        0.3\n",
            "et-xmlfile                         1.1.0\n",
            "fastcache                          1.1.0\n",
            "filelock                           3.3.1\n",
            "flake8                             3.9.2\n",
            "Flask                              1.1.2\n",
            "fonttools                          4.25.0\n",
            "fsspec                             2021.10.1\n",
            "future                             0.18.2\n",
            "gevent                             21.8.0\n",
            "glob2                              0.7\n",
            "greenlet                           1.1.1\n",
            "h5py                               3.2.1\n",
            "HeapDict                           1.0.1\n",
            "html5lib                           1.1\n",
            "idna                               3.2\n",
            "imagecodecs                        2021.8.26\n",
            "imageio                            2.9.0\n",
            "imagesize                          1.2.0\n",
            "importlib-metadata                 4.8.1\n",
            "inflection                         0.5.1\n",
            "iniconfig                          1.1.1\n",
            "intervaltree                       3.1.0\n",
            "ipykernel                          6.4.1\n",
            "ipython                            7.29.0\n",
            "ipython-genutils                   0.2.0\n",
            "ipywidgets                         7.6.5\n",
            "isort                              5.9.3\n",
            "itsdangerous                       2.0.1\n",
            "jdcal                              1.4.1\n",
            "jedi                               0.18.0\n",
            "Jinja2                             2.11.3\n",
            "jinja2-time                        0.2.0\n",
            "joblib                             1.1.0\n",
            "json5                              0.9.6\n",
            "jsonschema                         3.2.0\n",
            "jupyter                            1.0.0\n",
            "jupyter-client                     6.1.12\n",
            "jupyter-console                    6.4.0\n",
            "jupyter-core                       4.8.1\n",
            "jupyter-server                     1.4.1\n",
            "jupyterlab                         3.2.1\n",
            "jupyterlab-pygments                0.1.2\n",
            "jupyterlab-server                  2.8.2\n",
            "jupyterlab-widgets                 1.0.0\n",
            "keyring                            23.1.0\n",
            "kiwisolver                         1.3.1\n",
            "lazy-object-proxy                  1.6.0\n",
            "libarchive-c                       2.9\n",
            "llvmlite                           0.37.0\n",
            "locket                             0.2.1\n",
            "lxml                               4.6.3\n",
            "MarkupSafe                         1.1.1\n",
            "matplotlib                         3.4.3\n",
            "matplotlib-inline                  0.1.2\n",
            "mccabe                             0.6.1\n",
            "menuinst                           1.4.18\n",
            "mistune                            0.8.4\n",
            "mkl-fft                            1.3.1\n",
            "mkl-random                         1.2.2\n",
            "mkl-service                        2.4.0\n",
            "mock                               4.0.3\n",
            "more-itertools                     8.10.0\n",
            "mpmath                             1.2.1\n",
            "msgpack                            1.0.2\n",
            "multipledispatch                   0.6.0\n",
            "munkres                            1.1.4\n",
            "mypy-extensions                    0.4.3\n",
            "navigator-updater                  0.2.1\n",
            "nbclassic                          0.2.6\n",
            "nbclient                           0.5.3\n",
            "nbconvert                          6.1.0\n",
            "nbformat                           5.1.3\n",
            "nest-asyncio                       1.5.1\n",
            "networkx                           2.6.3\n",
            "nltk                               3.6.5\n",
            "nose                               1.3.7\n",
            "notebook                           6.4.5\n",
            "numba                              0.54.1\n",
            "numexpr                            2.7.3\n",
            "numpy                              1.20.3\n",
            "numpydoc                           1.1.0\n",
            "olefile                            0.46\n",
            "openpyxl                           3.0.9\n",
            "packaging                          21.0\n",
            "pandas                             1.3.4\n",
            "pandocfilters                      1.4.3\n",
            "paramiko                           2.7.2\n",
            "parso                              0.8.2\n",
            "partd                              1.2.0\n",
            "path                               16.0.0\n",
            "pathlib2                           2.3.6\n",
            "pathspec                           0.7.0\n",
            "patsy                              0.5.2\n",
            "pep8                               1.7.1\n",
            "pexpect                            4.8.0\n",
            "pickleshare                        0.7.5\n",
            "Pillow                             8.4.0\n",
            "pip                                21.2.4\n",
            "pkginfo                            1.7.1\n",
            "pluggy                             0.13.1\n",
            "ply                                3.11\n",
            "poyo                               0.5.0\n",
            "prometheus-client                  0.11.0\n",
            "prompt-toolkit                     3.0.20\n",
            "psutil                             5.8.0\n",
            "ptyprocess                         0.7.0\n",
            "py                                 1.10.0\n",
            "pycodestyle                        2.7.0\n",
            "pycosat                            0.6.3\n",
            "pycparser                          2.20\n",
            "pycurl                             7.44.1\n",
            "pydocstyle                         6.1.1\n",
            "pyerfa                             2.0.0\n",
            "pyflakes                           2.3.1\n",
            "Pygments                           2.10.0\n",
            "PyJWT                              2.1.0\n",
            "pylint                             2.9.6\n",
            "pyls-spyder                        0.4.0\n",
            "PyNaCl                             1.4.0\n",
            "pyodbc                             4.0.0-unsupported\n",
            "pyOpenSSL                          21.0.0\n",
            "pyparsing                          3.0.4\n",
            "pyreadline                         2.1\n",
            "pyrsistent                         0.18.0\n",
            "PySocks                            1.7.1\n",
            "pytest                             6.2.4\n",
            "python-dateutil                    2.8.2\n",
            "python-lsp-black                   1.0.0\n",
            "python-lsp-jsonrpc                 1.0.0\n",
            "python-lsp-server                  1.2.4\n",
            "python-slugify                     5.0.2\n",
            "pytz                               2021.3\n",
            "PyWavelets                         1.1.1\n",
            "pywin32                            228\n",
            "pywin32-ctypes                     0.2.0\n",
            "pywinpty                           0.5.7\n",
            "PyYAML                             6.0\n",
            "pyzmq                              22.2.1\n",
            "QDarkStyle                         3.0.2\n",
            "qstylizer                          0.1.10\n",
            "QtAwesome                          1.0.2\n",
            "qtconsole                          5.1.1\n",
            "QtPy                               1.10.0\n",
            "regex                              2021.8.3\n",
            "requests                           2.26.0\n",
            "rope                               0.19.0\n",
            "Rtree                              0.9.7\n",
            "ruamel-yaml-conda                  0.15.100\n",
            "scikit-image                       0.18.3\n",
            "scikit-learn                       0.24.2\n",
            "scikit-learn-intelex               2021.20210714.120553\n",
            "scipy                              1.7.1\n",
            "seaborn                            0.11.2\n",
            "Send2Trash                         1.8.0\n",
            "setuptools                         58.0.4\n",
            "simplegeneric                      0.8.1\n",
            "singledispatch                     3.7.0\n",
            "sip                                4.19.13\n",
            "six                                1.16.0\n",
            "sniffio                            1.2.0\n",
            "snowballstemmer                    2.1.0\n",
            "sortedcollections                  2.1.0\n",
            "sortedcontainers                   2.4.0\n",
            "soupsieve                          2.2.1\n",
            "Sphinx                             4.2.0\n",
            "sphinxcontrib-applehelp            1.0.2\n",
            "sphinxcontrib-devhelp              1.0.2\n",
            "sphinxcontrib-htmlhelp             2.0.0\n",
            "sphinxcontrib-jsmath               1.0.1\n",
            "sphinxcontrib-qthelp               1.0.3\n",
            "sphinxcontrib-serializinghtml      1.1.5\n",
            "sphinxcontrib-websupport           1.2.4\n",
            "spyder                             5.1.5\n",
            "spyder-kernels                     2.1.3\n",
            "SQLAlchemy                         1.4.22\n",
            "statsmodels                        0.12.2\n",
            "sympy                              1.9\n",
            "tables                             3.6.1\n",
            "TBB                                0.2\n",
            "tblib                              1.7.0\n",
            "terminado                          0.9.4\n",
            "testpath                           0.5.0\n",
            "text-unidecode                     1.3\n",
            "textdistance                       4.2.1\n",
            "threadpoolctl                      2.2.0\n",
            "three-merge                        0.1.1\n",
            "tifffile                           2021.7.2\n",
            "tinycss                            0.4\n",
            "toml                               0.10.2\n",
            "toolz                              0.11.1\n",
            "tornado                            6.1\n",
            "tqdm                               4.62.3\n",
            "traitlets                          5.1.0\n",
            "typed-ast                          1.4.3\n",
            "typing-extensions                  3.10.0.2\n",
            "ujson                              4.0.2\n",
            "unicodecsv                         0.14.1\n",
            "Unidecode                          1.2.0\n",
            "urllib3                            1.26.7\n",
            "watchdog                           2.1.3\n",
            "wcwidth                            0.2.5\n",
            "webencodings                       0.5.1\n",
            "Werkzeug                           2.0.2\n",
            "wheel                              0.37.0\n",
            "whichcraft                         0.6.1\n",
            "widgetsnbextension                 3.5.1\n",
            "win-inet-pton                      1.1.0\n",
            "win-unicode-console                0.5\n",
            "wincertstore                       0.2\n",
            "wrapt                              1.12.1\n",
            "xlrd                               2.0.1\n",
            "XlsxWriter                         3.0.1\n",
            "xlwings                            0.24.9\n",
            "xlwt                               1.3.0\n",
            "xmltodict                          0.12.0\n",
            "yapf                               0.31.0\n",
            "zict                               2.0.0\n",
            "zipp                               3.6.0\n",
            "zope.event                         4.5.0\n",
            "zope.interface                     5.4.0\n",
            "Note: you may need to restart the kernel to use updated packages.\n"
          ]
        }
      ],
      "source": [
        "pip list"
      ]
    },
    {
      "cell_type": "code",
      "execution_count": null,
      "id": "166c6da2",
      "metadata": {
        "id": "166c6da2",
        "outputId": "8ffaeb96-9727-4fb0-817b-f0086df341ca"
      },
      "outputs": [
        {
          "data": {
            "text/plain": [
              "'C:\\\\Users\\\\TKU-STAFF'"
            ]
          },
          "execution_count": 11,
          "metadata": {},
          "output_type": "execute_result"
        }
      ],
      "source": [
        "pwd"
      ]
    },
    {
      "cell_type": "code",
      "execution_count": null,
      "id": "f00517b0",
      "metadata": {
        "id": "f00517b0",
        "outputId": "f46d9ada-3073-490f-c5b7-991f83e5f945"
      },
      "outputs": [
        {
          "name": "stdout",
          "output_type": "stream",
          "text": [
            "Collecting wget\n",
            "  Downloading wget-3.2.zip (10 kB)\n",
            "Building wheels for collected packages: wget\n",
            "  Building wheel for wget (setup.py): started\n",
            "  Building wheel for wget (setup.py): finished with status 'done'\n",
            "  Created wheel for wget: filename=wget-3.2-py3-none-any.whl size=9672 sha256=84f61cd295487cecd063a3cc5a603f039a7049932086345ef98f30bb469af8c3\n",
            "  Stored in directory: c:\\users\\tku-staff\\appdata\\local\\pip\\cache\\wheels\\04\\5f\\3e\\46cc37c5d698415694d83f607f833f83f0149e49b3af9d0f38\n",
            "Successfully built wget\n",
            "Installing collected packages: wget\n",
            "Successfully installed wget-3.2\n",
            "Note: you may need to restart the kernel to use updated packages.\n"
          ]
        }
      ],
      "source": [
        "pip install wget"
      ]
    },
    {
      "cell_type": "code",
      "execution_count": null,
      "id": "dcd48d0a",
      "metadata": {
        "id": "dcd48d0a",
        "outputId": "a149337c-8748-4e79-c520-ca27856f8541"
      },
      "outputs": [
        {
          "name": "stdout",
          "output_type": "stream",
          "text": [
            "Package                            Version\n",
            "---------------------------------- --------------------\n",
            "alabaster                          0.7.12\n",
            "anaconda-client                    1.9.0\n",
            "anaconda-navigator                 2.1.1\n",
            "anaconda-project                   0.10.1\n",
            "anyio                              2.2.0\n",
            "appdirs                            1.4.4\n",
            "argh                               0.26.2\n",
            "argon2-cffi                        20.1.0\n",
            "arrow                              0.13.1\n",
            "asn1crypto                         1.4.0\n",
            "astroid                            2.6.6\n",
            "astropy                            4.3.1\n",
            "async-generator                    1.10\n",
            "atomicwrites                       1.4.0\n",
            "attrs                              21.2.0\n",
            "autopep8                           1.5.7\n",
            "Babel                              2.9.1\n",
            "backcall                           0.2.0\n",
            "backports.functools-lru-cache      1.6.4\n",
            "backports.shutil-get-terminal-size 1.0.0\n",
            "backports.tempfile                 1.0\n",
            "backports.weakref                  1.0.post1\n",
            "bcrypt                             3.2.0\n",
            "beautifulsoup4                     4.10.0\n",
            "binaryornot                        0.4.4\n",
            "bitarray                           2.3.0\n",
            "bkcharts                           0.2\n",
            "black                              19.10b0\n",
            "bleach                             4.0.0\n",
            "bokeh                              2.4.1\n",
            "boto                               2.49.0\n",
            "Bottleneck                         1.3.2\n",
            "brotlipy                           0.7.0\n",
            "cached-property                    1.5.2\n",
            "certifi                            2021.10.8\n",
            "cffi                               1.14.6\n",
            "chardet                            4.0.0\n",
            "charset-normalizer                 2.0.4\n",
            "click                              8.0.3\n",
            "cloudpickle                        2.0.0\n",
            "clyent                             1.2.2\n",
            "colorama                           0.4.4\n",
            "comtypes                           1.1.10\n",
            "conda                              4.10.3\n",
            "conda-build                        3.21.6\n",
            "conda-content-trust                0+unknown\n",
            "conda-pack                         0.6.0\n",
            "conda-package-handling             1.7.3\n",
            "conda-repo-cli                     1.0.4\n",
            "conda-token                        0.3.0\n",
            "conda-verify                       3.4.2\n",
            "contextlib2                        0.6.0.post1\n",
            "cookiecutter                       1.7.2\n",
            "cryptography                       3.4.8\n",
            "cycler                             0.10.0\n",
            "Cython                             0.29.24\n",
            "cytoolz                            0.11.0\n",
            "daal4py                            2021.3.0\n",
            "dask                               2021.10.0\n",
            "debugpy                            1.4.1\n",
            "decorator                          5.1.0\n",
            "defusedxml                         0.7.1\n",
            "diff-match-patch                   20200713\n",
            "distributed                        2021.10.0\n",
            "docutils                           0.17.1\n",
            "entrypoints                        0.3\n",
            "et-xmlfile                         1.1.0\n",
            "fastcache                          1.1.0\n",
            "filelock                           3.3.1\n",
            "flake8                             3.9.2\n",
            "Flask                              1.1.2\n",
            "fonttools                          4.25.0\n",
            "fsspec                             2021.10.1\n",
            "future                             0.18.2\n",
            "gevent                             21.8.0\n",
            "glob2                              0.7\n",
            "greenlet                           1.1.1\n",
            "h5py                               3.2.1\n",
            "HeapDict                           1.0.1\n",
            "html5lib                           1.1\n",
            "idna                               3.2\n",
            "imagecodecs                        2021.8.26\n",
            "imageio                            2.9.0\n",
            "imagesize                          1.2.0\n",
            "importlib-metadata                 4.8.1\n",
            "inflection                         0.5.1\n",
            "iniconfig                          1.1.1\n",
            "intervaltree                       3.1.0\n",
            "ipykernel                          6.4.1\n",
            "ipython                            7.29.0\n",
            "ipython-genutils                   0.2.0\n",
            "ipywidgets                         7.6.5\n",
            "isort                              5.9.3\n",
            "itsdangerous                       2.0.1\n",
            "jdcal                              1.4.1\n",
            "jedi                               0.18.0\n",
            "Jinja2                             2.11.3\n",
            "jinja2-time                        0.2.0\n",
            "joblib                             1.1.0\n",
            "json5                              0.9.6\n",
            "jsonschema                         3.2.0\n",
            "jupyter                            1.0.0\n",
            "jupyter-client                     6.1.12\n",
            "jupyter-console                    6.4.0\n",
            "jupyter-core                       4.8.1\n",
            "jupyter-server                     1.4.1\n",
            "jupyterlab                         3.2.1\n",
            "jupyterlab-pygments                0.1.2\n",
            "jupyterlab-server                  2.8.2\n",
            "jupyterlab-widgets                 1.0.0\n",
            "keyring                            23.1.0\n",
            "kiwisolver                         1.3.1\n",
            "lazy-object-proxy                  1.6.0\n",
            "libarchive-c                       2.9\n",
            "llvmlite                           0.37.0\n",
            "locket                             0.2.1\n",
            "lxml                               4.6.3\n",
            "MarkupSafe                         1.1.1\n",
            "matplotlib                         3.4.3\n",
            "matplotlib-inline                  0.1.2\n",
            "mccabe                             0.6.1\n",
            "menuinst                           1.4.18\n",
            "mistune                            0.8.4\n",
            "mkl-fft                            1.3.1\n",
            "mkl-random                         1.2.2\n",
            "mkl-service                        2.4.0\n",
            "mock                               4.0.3\n",
            "more-itertools                     8.10.0\n",
            "mpmath                             1.2.1\n",
            "msgpack                            1.0.2\n",
            "multipledispatch                   0.6.0\n",
            "munkres                            1.1.4\n",
            "mypy-extensions                    0.4.3\n",
            "navigator-updater                  0.2.1\n",
            "nbclassic                          0.2.6\n",
            "nbclient                           0.5.3\n",
            "nbconvert                          6.1.0\n",
            "nbformat                           5.1.3\n",
            "nest-asyncio                       1.5.1\n",
            "networkx                           2.6.3\n",
            "nltk                               3.6.5\n",
            "nose                               1.3.7\n",
            "notebook                           6.4.5\n",
            "numba                              0.54.1\n",
            "numexpr                            2.7.3\n",
            "numpy                              1.20.3\n",
            "numpydoc                           1.1.0\n",
            "olefile                            0.46\n",
            "openpyxl                           3.0.9\n",
            "packaging                          21.0\n",
            "pandas                             1.3.4\n",
            "pandocfilters                      1.4.3\n",
            "paramiko                           2.7.2\n",
            "parso                              0.8.2\n",
            "partd                              1.2.0\n",
            "path                               16.0.0\n",
            "pathlib2                           2.3.6\n",
            "pathspec                           0.7.0\n",
            "patsy                              0.5.2\n",
            "pep8                               1.7.1\n",
            "pexpect                            4.8.0\n",
            "pickleshare                        0.7.5\n",
            "Pillow                             8.4.0\n",
            "pip                                21.2.4\n",
            "pkginfo                            1.7.1\n",
            "pluggy                             0.13.1\n",
            "ply                                3.11\n",
            "poyo                               0.5.0\n",
            "prometheus-client                  0.11.0\n",
            "prompt-toolkit                     3.0.20\n",
            "psutil                             5.8.0\n",
            "ptyprocess                         0.7.0\n",
            "py                                 1.10.0\n",
            "pycodestyle                        2.7.0\n",
            "pycosat                            0.6.3\n",
            "pycparser                          2.20\n",
            "pycurl                             7.44.1\n",
            "pydocstyle                         6.1.1\n",
            "pyerfa                             2.0.0\n",
            "pyflakes                           2.3.1\n",
            "Pygments                           2.10.0\n",
            "PyJWT                              2.1.0\n",
            "pylint                             2.9.6\n",
            "pyls-spyder                        0.4.0\n",
            "PyNaCl                             1.4.0\n",
            "pyodbc                             4.0.0-unsupported\n",
            "pyOpenSSL                          21.0.0\n",
            "pyparsing                          3.0.4\n",
            "pyreadline                         2.1\n",
            "pyrsistent                         0.18.0\n",
            "PySocks                            1.7.1\n",
            "pytest                             6.2.4\n",
            "python-dateutil                    2.8.2\n",
            "python-lsp-black                   1.0.0\n",
            "python-lsp-jsonrpc                 1.0.0\n",
            "python-lsp-server                  1.2.4\n",
            "python-slugify                     5.0.2\n",
            "pytz                               2021.3\n",
            "PyWavelets                         1.1.1\n",
            "pywin32                            228\n",
            "pywin32-ctypes                     0.2.0\n",
            "pywinpty                           0.5.7\n",
            "PyYAML                             6.0\n",
            "pyzmq                              22.2.1\n",
            "QDarkStyle                         3.0.2\n",
            "qstylizer                          0.1.10\n",
            "QtAwesome                          1.0.2\n",
            "qtconsole                          5.1.1\n",
            "QtPy                               1.10.0\n",
            "regex                              2021.8.3\n",
            "requests                           2.26.0\n",
            "rope                               0.19.0\n",
            "Rtree                              0.9.7\n",
            "ruamel-yaml-conda                  0.15.100\n",
            "scikit-image                       0.18.3\n",
            "scikit-learn                       0.24.2\n",
            "scikit-learn-intelex               2021.20210714.120553\n",
            "scipy                              1.7.1\n",
            "seaborn                            0.11.2\n",
            "Send2Trash                         1.8.0\n",
            "setuptools                         58.0.4\n",
            "simplegeneric                      0.8.1\n",
            "singledispatch                     3.7.0\n",
            "sip                                4.19.13\n",
            "six                                1.16.0\n",
            "sniffio                            1.2.0\n",
            "snowballstemmer                    2.1.0\n",
            "sortedcollections                  2.1.0\n",
            "sortedcontainers                   2.4.0\n",
            "soupsieve                          2.2.1\n",
            "Sphinx                             4.2.0\n",
            "sphinxcontrib-applehelp            1.0.2\n",
            "sphinxcontrib-devhelp              1.0.2\n",
            "sphinxcontrib-htmlhelp             2.0.0\n",
            "sphinxcontrib-jsmath               1.0.1\n",
            "sphinxcontrib-qthelp               1.0.3\n",
            "sphinxcontrib-serializinghtml      1.1.5\n",
            "sphinxcontrib-websupport           1.2.4\n",
            "spyder                             5.1.5\n",
            "spyder-kernels                     2.1.3\n",
            "SQLAlchemy                         1.4.22\n",
            "statsmodels                        0.12.2\n",
            "sympy                              1.9\n",
            "tables                             3.6.1\n",
            "TBB                                0.2\n",
            "tblib                              1.7.0\n",
            "terminado                          0.9.4\n",
            "testpath                           0.5.0\n",
            "text-unidecode                     1.3\n",
            "textdistance                       4.2.1\n",
            "threadpoolctl                      2.2.0\n",
            "three-merge                        0.1.1\n",
            "tifffile                           2021.7.2\n",
            "tinycss                            0.4\n",
            "toml                               0.10.2\n",
            "toolz                              0.11.1\n",
            "tornado                            6.1\n",
            "tqdm                               4.62.3\n",
            "traitlets                          5.1.0\n",
            "typed-ast                          1.4.3\n",
            "typing-extensions                  3.10.0.2\n",
            "ujson                              4.0.2\n",
            "unicodecsv                         0.14.1\n",
            "Unidecode                          1.2.0\n",
            "urllib3                            1.26.7\n",
            "watchdog                           2.1.3\n",
            "wcwidth                            0.2.5\n",
            "webencodings                       0.5.1\n",
            "Werkzeug                           2.0.2\n",
            "wget                               3.2\n",
            "wheel                              0.37.0\n",
            "whichcraft                         0.6.1\n",
            "widgetsnbextension                 3.5.1\n",
            "win-inet-pton                      1.1.0\n",
            "win-unicode-console                0.5\n",
            "wincertstore                       0.2\n",
            "wrapt                              1.12.1\n",
            "xlrd                               2.0.1\n",
            "XlsxWriter                         3.0.1\n",
            "Note: you may need to restart the kernel to use updated packages.\n"
          ]
        },
        {
          "name": "stdout",
          "output_type": "stream",
          "text": [
            "xlwings                            0.24.9\n",
            "xlwt                               1.3.0\n",
            "xmltodict                          0.12.0\n",
            "yapf                               0.31.0\n",
            "zict                               2.0.0\n",
            "zipp                               3.6.0\n",
            "zope.event                         4.5.0\n",
            "zope.interface                     5.4.0\n"
          ]
        }
      ],
      "source": [
        "pip list"
      ]
    },
    {
      "cell_type": "code",
      "execution_count": null,
      "id": "a69df2f4",
      "metadata": {
        "id": "a69df2f4"
      },
      "outputs": [],
      "source": [
        "import wget"
      ]
    },
    {
      "cell_type": "code",
      "execution_count": null,
      "id": "2fb484bb",
      "metadata": {
        "id": "2fb484bb",
        "outputId": "36763150-b6dc-4f51-da4d-fcb1463dec0b"
      },
      "outputs": [
        {
          "data": {
            "text/plain": [
              "'scores.csv'"
            ]
          },
          "execution_count": 16,
          "metadata": {},
          "output_type": "execute_result"
        }
      ],
      "source": [
        "wget.download('https://github.com/tku-peiyucheng/TKU-DM-Class/blob/main/scores.csv')"
      ]
    },
    {
      "cell_type": "code",
      "execution_count": null,
      "id": "6a5ecb72",
      "metadata": {
        "id": "6a5ecb72",
        "outputId": "c3d5ff19-c645-4d47-e8f3-1b7fd29e3309"
      },
      "outputs": [
        {
          "name": "stdout",
          "output_type": "stream",
          "text": [
            " 磁碟區 C 中的磁碟沒有標籤。\n",
            " 磁碟區序號:  2F21-0399\n",
            "\n",
            " C:\\Users\\TKU-STAFF 的目錄\n",
            "\n",
            "2023/07/25  下午 04:10    <DIR>          .\n",
            "2023/07/25  下午 04:10    <DIR>          ..\n",
            "2021/02/18  下午 03:07    <DIR>          .anaconda\n",
            "2023/07/25  下午 04:10    <DIR>          .conda\n",
            "2022/02/15  上午 10:38                43 .condarc\n",
            "2022/02/15  上午 10:42    <DIR>          .continuum\n",
            "2023/07/25  下午 03:53    <DIR>          .ipynb_checkpoints\n",
            "2023/07/25  下午 03:53    <DIR>          .ipython\n",
            "2021/03/20  上午 08:17    <DIR>          .VirtualBox\n",
            "2023/07/25  上午 09:40    <DIR>          .vscode\n",
            "2020/08/19  上午 08:41    <DIR>          3D Objects\n",
            "2022/02/15  上午 10:42    <DIR>          anaconda3\n",
            "2020/08/19  上午 08:41    <DIR>          Contacts\n",
            "2022/10/06  上午 08:16    <DIR>          Desktop\n",
            "2022/10/06  上午 08:16    <DIR>          Documents\n",
            "2023/07/25  上午 09:40    <DIR>          Downloads\n",
            "2020/08/19  上午 08:41    <DIR>          Favorites\n",
            "2020/08/17  上午 11:20    <DIR>          Intel\n",
            "2020/08/19  上午 08:41    <DIR>          Links\n",
            "2020/08/19  上午 08:41    <DIR>          Music\n",
            "2021/01/20  上午 10:25    <DIR>          OneDrive\n",
            "2022/09/23  下午 03:36    <DIR>          Pictures\n",
            "2020/08/19  上午 08:41    <DIR>          Saved Games\n",
            "2023/07/25  下午 04:10           121,746 scores.csv\n",
            "2020/08/19  上午 08:41    <DIR>          Searches\n",
            "2023/07/25  下午 04:09            33,879 Untitled.ipynb\n",
            "2021/01/20  下午 01:11    <DIR>          Videos\n",
            "               3 個檔案         155,668 位元組\n",
            "              24 個目錄  81,266,028,544 位元組可用\n"
          ]
        }
      ],
      "source": [
        "ls"
      ]
    },
    {
      "cell_type": "code",
      "execution_count": null,
      "id": "bcad445d",
      "metadata": {
        "id": "bcad445d",
        "outputId": "e8e0f040-4e03-41c1-a93c-c7dc9d76dd87"
      },
      "outputs": [
        {
          "name": "stdout",
          "output_type": "stream",
          "text": [
            "Requirement already satisfied: numpy in c:\\users\\tku-staff\\anaconda3\\lib\\site-packages (1.20.3)\n",
            "Note: you may need to restart the kernel to use updated packages.\n"
          ]
        }
      ],
      "source": [
        "pip install numpy"
      ]
    },
    {
      "cell_type": "code",
      "execution_count": null,
      "id": "4904faf2",
      "metadata": {
        "id": "4904faf2"
      },
      "outputs": [],
      "source": [
        "import numpy as np"
      ]
    },
    {
      "cell_type": "code",
      "execution_count": null,
      "id": "77616081",
      "metadata": {
        "id": "77616081",
        "outputId": "ab9969e0-b8bc-4c66-a790-408bcaf3f20c"
      },
      "outputs": [
        {
          "name": "stdout",
          "output_type": "stream",
          "text": [
            "(30, 4)\n"
          ]
        }
      ],
      "source": [
        "na = np.genfromtxt('scores.csv', delimiter=',', skip_header=1)\n",
        "print(na.shape)"
      ]
    },
    {
      "cell_type": "code",
      "execution_count": null,
      "id": "1627626c",
      "metadata": {
        "id": "1627626c",
        "outputId": "7bfd1384-11d4-4928-9036-b3014e2aba4d"
      },
      "outputs": [
        {
          "data": {
            "text/plain": [
              "array([[ 1., 87., 85., 82.],\n",
              "       [ 2., 92., 87., 90.],\n",
              "       [ 3., 80., 91., 87.],\n",
              "       [ 4., 78., 82., 95.],\n",
              "       [ 5., 88., 89., 90.],\n",
              "       [ 6., 82., 87., 88.],\n",
              "       [ 7., 90., 92., 82.],\n",
              "       [ 8., 87., 80., 90.],\n",
              "       [ 9., 95., 78., 87.],\n",
              "       [10., 90., 88., 95.],\n",
              "       [11., 88., 89., 75.],\n",
              "       [12., 82., 91., 66.],\n",
              "       [13., 90., 82., 87.],\n",
              "       [14., 87., 89., 92.],\n",
              "       [15., 95., 87., 80.],\n",
              "       [16., 90., 92., 78.],\n",
              "       [17., 82., 80., 88.],\n",
              "       [18., 90., 78., 93.],\n",
              "       [19., 67., 87., 95.],\n",
              "       [20., 91., 82., 88.],\n",
              "       [21., 82., 81., 82.],\n",
              "       [22., 79., 87., 90.],\n",
              "       [23., 87., 92., 87.],\n",
              "       [24., 92., 82., 95.],\n",
              "       [25., 80., 90., 78.],\n",
              "       [26., 78., 76., 91.],\n",
              "       [27., 66., 90., 82.],\n",
              "       [28., 89., 77., 89.],\n",
              "       [29., 87., 95., 87.],\n",
              "       [30., 73., 90., 92.]])"
            ]
          },
          "execution_count": 37,
          "metadata": {},
          "output_type": "execute_result"
        }
      ],
      "source": [
        "na"
      ]
    },
    {
      "cell_type": "code",
      "execution_count": 2,
      "id": "3475a9b6",
      "metadata": {
        "id": "3475a9b6"
      },
      "outputs": [],
      "source": [
        "import matplotlib.pyplot as plt"
      ]
    },
    {
      "cell_type": "code",
      "execution_count": 5,
      "id": "37f0ade4",
      "metadata": {
        "colab": {
          "base_uri": "https://localhost:8080/"
        },
        "id": "37f0ade4",
        "outputId": "3b615525-a259-488c-a2f2-f01c2d08d9c2"
      },
      "outputs": [
        {
          "output_type": "stream",
          "name": "stdout",
          "text": [
            "Requirement already satisfied: matplotlib in /usr/local/lib/python3.10/dist-packages (3.7.1)\n",
            "Requirement already satisfied: contourpy>=1.0.1 in /usr/local/lib/python3.10/dist-packages (from matplotlib) (1.1.0)\n",
            "Requirement already satisfied: cycler>=0.10 in /usr/local/lib/python3.10/dist-packages (from matplotlib) (0.11.0)\n",
            "Requirement already satisfied: fonttools>=4.22.0 in /usr/local/lib/python3.10/dist-packages (from matplotlib) (4.41.0)\n",
            "Requirement already satisfied: kiwisolver>=1.0.1 in /usr/local/lib/python3.10/dist-packages (from matplotlib) (1.4.4)\n",
            "Requirement already satisfied: numpy>=1.20 in /usr/local/lib/python3.10/dist-packages (from matplotlib) (1.22.4)\n",
            "Requirement already satisfied: packaging>=20.0 in /usr/local/lib/python3.10/dist-packages (from matplotlib) (23.1)\n",
            "Requirement already satisfied: pillow>=6.2.0 in /usr/local/lib/python3.10/dist-packages (from matplotlib) (8.4.0)\n",
            "Requirement already satisfied: pyparsing>=2.3.1 in /usr/local/lib/python3.10/dist-packages (from matplotlib) (3.1.0)\n",
            "Requirement already satisfied: python-dateutil>=2.7 in /usr/local/lib/python3.10/dist-packages (from matplotlib) (2.8.2)\n",
            "Requirement already satisfied: six>=1.5 in /usr/local/lib/python3.10/dist-packages (from python-dateutil>=2.7->matplotlib) (1.16.0)\n"
          ]
        }
      ],
      "source": [
        "pip install matplotlib"
      ]
    },
    {
      "cell_type": "code",
      "execution_count": 8,
      "id": "faf7ee6c",
      "metadata": {
        "colab": {
          "base_uri": "https://localhost:8080/",
          "height": 449
        },
        "id": "faf7ee6c",
        "outputId": "35f5d83c-ccc3-4704-ff7d-5bef442cdd06"
      },
      "outputs": [
        {
          "output_type": "display_data",
          "data": {
            "text/plain": [
              "<Figure size 640x480 with 1 Axes>"
            ],
            "image/png": "[encoded data removed]"
          },
          "metadata": {}
        }
      ],
      "source": [
        "plt.plot([9,9.2,9,6,7.5,6.7,7],[9,4,9.2,9.2,9.2,7.1,7.4],'yx')\n",
        "plt.plot([9,9.2,9,6,7.5,6.7,7],[9,4,9.2,9.2,9.2,7.1,7.4],'yx')\n",
        "\n",
        "plt.plot([7.2,7.3,7.2,7.3,7.2,7.3,7.3],[10.3,10.5,9.2,10.2,9.7,10.1,10.1],'gx')\n",
        "plt.plot([6.5,9.0],[7.8,12.5],'b--')\n",
        "plt.ylabel('H cm')\n",
        "plt.xlabel('W cm')\n",
        "\n",
        "plt.legend(('Orange','lemons'),loc='upper right')\n",
        "plt.show()"
      ]
    },
    {
      "cell_type": "code",
      "execution_count": 11,
      "id": "4f11f461",
      "metadata": {
        "colab": {
          "base_uri": "https://localhost:8080/",
          "height": 455
        },
        "id": "4f11f461",
        "outputId": "0fba6126-d5e8-46c3-a29b-eb7667a732cf"
      },
      "outputs": [
        {
          "output_type": "display_data",
          "data": {
            "text/plain": [
              "<Figure size 640x480 with 1 Axes>"
            ],
            "image/png": "[encoded data removed]"
          },
          "metadata": {}
        }
      ],
      "source": [
        "import matplotlib.pyplot as plt\n",
        "plt.plot([1,2,3,4],[0,0.3,0.6,0.9],'gx')\n",
        "plt.plot([1,2,3,4],[0,0.3,0.6,0.9],'r--')\n",
        "plt.axis([0,5,0,1])\n",
        "plt.ylabel('Y')\n",
        "plt.xlabel('X')\n",
        "plt.legend(('price','passenger'),loc='upper right')\n",
        "plt.show()"
      ]
    },
    {
      "cell_type": "code",
      "execution_count": 13,
      "id": "30992ee8",
      "metadata": {
        "colab": {
          "base_uri": "https://localhost:8080/",
          "height": 449
        },
        "id": "30992ee8",
        "outputId": "a6d5041c-5ccf-4b4e-8e48-ba9d711e5505"
      },
      "outputs": [
        {
          "output_type": "display_data",
          "data": {
            "text/plain": [
              "<Figure size 640x480 with 1 Axes>"
            ],
            "image/png": "[encoded data removed]"
          },
          "metadata": {}
        }
      ],
      "source": [
        "import matplotlib.pyplot as plt\n",
        "import numpy as np\n",
        "plt.plot([1,2,3,4],[0,0.3,0.6,0.9],'gx')\n",
        "plt.plot([1,2,3,4],[0,0.3,0.6,0.9],'r--')\n",
        "\n",
        "X=1+np.arange(30)/10\n",
        "delat=np.random.uniform(low=-0.1,high=0.1,size=(30,))\n",
        "Y=0.3*X-0.3+delat\n",
        "plt.plot(X,Y,'bo')\n",
        "plt.ylabel('Y')\n",
        "plt.xlabel('X')\n",
        "plt.show()"
      ]
    },
    {
      "cell_type": "code",
      "execution_count": null,
      "id": "c0d1dbdf",
      "metadata": {
        "id": "c0d1dbdf"
      },
      "outputs": [],
      "source": []
    },
    {
      "cell_type": "code",
      "execution_count": null,
      "id": "11bc1156",
      "metadata": {
        "id": "11bc1156"
      },
      "outputs": [],
      "source": []
    },
    {
      "cell_type": "code",
      "execution_count": null,
      "id": "f0584b65",
      "metadata": {
        "id": "f0584b65"
      },
      "outputs": [],
      "source": []
    }
  ],
  "metadata": {
    "kernelspec": {
      "display_name": "Python 3 (ipykernel)",
      "language": "python",
      "name": "python3"
    },
    "language_info": {
      "codemirror_mode": {
        "name": "ipython",
        "version": 3
      },
      "file_extension": ".py",
      "mimetype": "text/x-python",
      "name": "python",
      "nbconvert_exporter": "python",
      "pygments_lexer": "ipython3",
      "version": "3.9.7"
    },
    "colab": {
      "provenance": [],
      "include_colab_link": true
    }
  },
  "nbformat": 4,
  "nbformat_minor": 5
}